{
 "cells": [
  {
   "cell_type": "code",
   "execution_count": 36,
   "metadata": {},
   "outputs": [],
   "source": [
    "from joblib import load\n",
    "import joblib\n",
    "import pandas as pd\n",
    "from datetime import datetime\n",
    "import numpy as np"
   ]
  },
  {
   "cell_type": "code",
   "execution_count": 37,
   "metadata": {},
   "outputs": [],
   "source": [
    "df = pd.read_excel(\"AKModeltesst_RE_raw export.xlsx\")"
   ]
  },
  {
   "cell_type": "code",
   "execution_count": null,
   "metadata": {},
   "outputs": [],
   "source": [
    "df.shape"
   ]
  },
  {
   "cell_type": "code",
   "execution_count": 39,
   "metadata": {},
   "outputs": [],
   "source": [
    "details = df[['Domain', 'Name', 'Description', 'LinkedIn', 'Employee Estimate','Employee Growth (6 months)', 'Employee Growth (Annual)', 'Headquarters', 'Year Founded', 'Last Funding Amount', 'Last Funding Date', 'Total Funding Amount', 'Total Funding Rounds']]"
   ]
  },
  {
   "cell_type": "code",
   "execution_count": 40,
   "metadata": {},
   "outputs": [],
   "source": [
    "data = df[['Employee Estimate', 'Employees on Professional Networks', 'Employee Growth (Monthly)', 'Employee Growth (Quarterly)', 'Employee Growth (6 months)', 'Employee Growth (Annual)', 'Headquarters', 'Year Founded', 'Last Funding Amount', 'Last Funding Date', 'Total Funding Amount', 'Total Funding Rounds', 'Business Model', 'Last Touch Date', 'Last Pipeline Decline Date']].copy()"
   ]
  },
  {
   "cell_type": "code",
   "execution_count": null,
   "metadata": {},
   "outputs": [],
   "source": [
    "data"
   ]
  },
  {
   "cell_type": "code",
   "execution_count": 42,
   "metadata": {},
   "outputs": [],
   "source": [
    "import pandas as pd\n",
    "import numpy as np\n",
    "from datetime import datetime\n",
    "\n",
    "# Assuming 'data' is your input DataFrame for predictions\n",
    "\n",
    "# US location check\n",
    "us_states = ['AL', 'AK', 'AZ', 'AR', 'CA', 'CO', 'CT', 'DE', 'FL', 'GA', 'HI', 'ID', 'IL', 'IN', 'IA', 'KS', 'KY', 'LA', 'ME', 'MD', 'MA', 'MI', 'MN', 'MS', 'MO', 'MT', 'NE', 'NV', 'NH', 'NJ', 'NM', 'NY', 'NC', 'ND', 'OH', 'OK', 'OR', 'PA', 'RI', 'SC', 'SD', 'TN', 'TX', 'UT', 'VT', 'VA', 'WA', 'WV', 'WI', 'WY']\n",
    "data['is_us'] = data['Headquarters'].apply(lambda x: 0.5 if pd.isna(x) else int(any(state in x for state in us_states)))\n",
    "\n",
    "# Calculate company age\n",
    "current_year = datetime.now().year\n",
    "data['company_age'] = current_year - data['Year Founded']\n",
    "\n",
    "# Check for tech-enabled sectors\n",
    "tech_enabled_sectors = ['Software', 'Software Enabled', 'Tech', 'Technology']\n",
    "data['is_tech_enabled'] = data['Business Model'].apply(lambda x: 0 if pd.isna(x) else int(x in tech_enabled_sectors))\n",
    "\n",
    "# Convert 'Employee Growth' columns to float\n",
    "growth_columns = ['Employee Growth (Monthly)', 'Employee Growth (Quarterly)', 'Employee Growth (6 months)', 'Employee Growth (Annual)']\n",
    "for col in growth_columns:\n",
    "    data[col] = data[col].str.replace('%', '').astype(float)\n",
    "\n",
    "# Process date columns\n",
    "today = pd.Timestamp.now().tz_localize(None)\n",
    "date_columns = ['Last Funding Date', 'Last Touch Date', 'Last Pipeline Decline Date']\n",
    "for col in date_columns:\n",
    "    data[col] = pd.to_datetime(data[col], errors='coerce').dt.tz_localize(None)\n",
    "    data[f'Days Since {col}'] = (today - data[col]).dt.days\n",
    "\n",
    "# Drop unnecessary columns\n",
    "columns_to_drop = ['Headquarters', 'Year Founded', 'Business Model'] + date_columns\n",
    "data = data.drop(columns=columns_to_drop)"
   ]
  },
  {
   "cell_type": "code",
   "execution_count": 43,
   "metadata": {},
   "outputs": [],
   "source": [
    "loaded_model = load('model.joblib')"
   ]
  },
  {
   "cell_type": "code",
   "execution_count": 44,
   "metadata": {},
   "outputs": [],
   "source": [
    "predictions = loaded_model.predict(data)\n",
    "predictions += 1"
   ]
  },
  {
   "cell_type": "code",
   "execution_count": null,
   "metadata": {},
   "outputs": [],
   "source": [
    "data"
   ]
  },
  {
   "cell_type": "code",
   "execution_count": null,
   "metadata": {},
   "outputs": [],
   "source": [
    "predictions"
   ]
  },
  {
   "cell_type": "code",
   "execution_count": 47,
   "metadata": {},
   "outputs": [],
   "source": [
    "details = details.copy()\n",
    "details['score'] = predictions\n"
   ]
  },
  {
   "cell_type": "code",
   "execution_count": 48,
   "metadata": {},
   "outputs": [],
   "source": [
    "cols = details.columns.tolist()\n",
    "cols = cols[-1:] + cols[:-1]\n",
    "details = details[cols]\n",
    "details = details.sort_values(by='score', ascending=False)\n",
    "details['score'] = details['score'].round(2)"
   ]
  },
  {
   "cell_type": "code",
   "execution_count": 49,
   "metadata": {},
   "outputs": [],
   "source": [
    "# Save to Excel without index\n",
    "details.to_excel(\"final_output.xlsx\", index=False)"
   ]
  }
 ],
 "metadata": {
  "kernelspec": {
   "display_name": ".venv",
   "language": "python",
   "name": "python3"
  },
  "language_info": {
   "codemirror_mode": {
    "name": "ipython",
    "version": 3
   },
   "file_extension": ".py",
   "mimetype": "text/x-python",
   "name": "python",
   "nbconvert_exporter": "python",
   "pygments_lexer": "ipython3",
   "version": "3.12.10"
  }
 },
 "nbformat": 4,
 "nbformat_minor": 2
}
